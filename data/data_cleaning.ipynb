{
  "cells": [
    {
      "attachments": {},
      "cell_type": "markdown",
      "metadata": {
        "id": "YzRndDQ3GQSK"
      },
      "source": [
        "#### The file is used to clean the data https://www.kaggle.com/datasets/laurentmih/aisegmentcom-matting-human-datasets\n",
        "#### you can have the cleaned/final data here: https://www.kaggle.com/datasets/rohit369/human-background-segmentation"
      ]
    },
    {
      "cell_type": "code",
      "execution_count": null,
      "metadata": {
        "id": "OlK3U7M7ptMx"
      },
      "outputs": [],
      "source": [
        "!mkdir ~/.kaggle\n",
        "!echo \"{\\\"username\\\":\\\"rohit369\\\",\\\"key\\\":\\\"<key-here>\\\"}\" > ~/.kaggle/kaggle.json\n",
        "!chmod 600 ~/.kaggle/kaggle.json\n",
        "!pip install kaggle\n",
        "\n",
        "!kaggle datasets download -d laurentmih/aisegmentcom-matting-human-datasets\n",
        "\n",
        "!mkdir ./data\n",
        "!unzip aisegmentcom-matting-human-datasets.zip -d ./data/\n",
        "!rm -rf ./data/matting_human_half\n",
        "!rm aisegmentcom-matting-human-datasets.zip"
      ]
    },
    {
      "cell_type": "code",
      "execution_count": null,
      "metadata": {
        "id": "e2_0sc9LyOUo"
      },
      "outputs": [],
      "source": [
        "from os import listdir\n",
        "from os.path import join\n",
        "import cv2\n",
        "from shutil import move\n",
        "from tqdm import tqdm\n",
        "import os\n",
        "import matplotlib.pyplot as plt\n"
      ]
    },
    {
      "cell_type": "code",
      "execution_count": null,
      "metadata": {
        "id": "PH-dJdvprW1f"
      },
      "outputs": [],
      "source": [
        "base_dir = './data'\n",
        "\n",
        "def rename_folders():\n",
        "    move('./data/clip_img', './data/img')\n",
        "    move('./data/matting', './data/mask')\n",
        "\n",
        "    for which in ['img', 'mask']:\n",
        "        for sub1 in listdir(join(base_dir, which)):\n",
        "            for sub2 in listdir(join(base_dir, which, sub1)):\n",
        "                frm = join(base_dir, which, sub1, sub2)\n",
        "                if which == 'img':\n",
        "                    to = frm.replace('clip', 'img')\n",
        "                else:\n",
        "                    to = frm.replace('matting', 'mask')\n",
        "\n",
        "                move(frm, to)\n",
        "\n",
        "rename_folders()\n"
      ]
    },
    {
      "cell_type": "code",
      "execution_count": null,
      "metadata": {
        "colab": {
          "base_uri": "https://localhost:8080/"
        },
        "id": "ohBGeLNAyUM5",
        "outputId": "dc79f0a4-54ae-4dbd-a00f-450e049b686b"
      },
      "outputs": [
        {
          "name": "stderr",
          "output_type": "stream",
          "text": [
            "100%|██████████| 148/148 [10:49<00:00,  4.39s/it]\n"
          ]
        }
      ],
      "source": [
        "def resize_folders_and_transform_mask():\n",
        "    for sub1 in tqdm(listdir(join(base_dir, 'img'))):\n",
        "        for sub2 in listdir(join(base_dir, 'img', sub1)):\n",
        "            for fn in listdir(join(base_dir, 'img', sub1, sub2)):\n",
        "                img_fn = join(base_dir, 'img', sub1, sub2, fn)\n",
        "                mask_fn = img_fn.replace('img', 'mask')[:-4]+'.png'\n",
        "\n",
        "                # read image & mask\n",
        "                img = cv2.imread(img_fn)\n",
        "                mask = cv2.imread(mask_fn, cv2.IMREAD_UNCHANGED)\n",
        "\n",
        "                # resize img & mask\n",
        "                img = cv2.resize(img, (256, 256))\n",
        "                mask = cv2.resize(mask, (256, 256))\n",
        "\n",
        "                mask = mask[..., 3]\n",
        "                # save img & mask\n",
        "                cv2.imwrite(img_fn, img)\n",
        "                cv2.imwrite(mask_fn[:-4]+'.jpg', mask)\n",
        "\n",
        "                os.remove(mask_fn)\n",
        "\n",
        "\n",
        "# resize_folders_and_transform_mask()\n",
        "\n",
        "# if any error occur around 95% then run the following code\n",
        "\n",
        "def part2():\n",
        "    for sub1 in tqdm(listdir(join(base_dir, 'img'))):\n",
        "        for sub2 in listdir(join(base_dir, 'img', sub1)):\n",
        "            for fn in listdir(join(base_dir, 'img', sub1, sub2)):\n",
        "                img_fn = join(base_dir, 'img', sub1, sub2, fn)\n",
        "                mask_fn = img_fn.replace('img', 'mask')[:-4]+'.png'\n",
        "\n",
        "                if os.path.exists(mask_fn):\n",
        "                    # read image & mask\n",
        "                    try:\n",
        "                        img = cv2.imread(img_fn)\n",
        "                        mask = cv2.imread(mask_fn, cv2.IMREAD_UNCHANGED)\n",
        "                    except:\n",
        "                        print(img_fn)\n",
        "    \n",
        "                    # resize img & mask\n",
        "                    img = cv2.resize(img, (256, 256))\n",
        "                    mask = cv2.resize(mask, (256, 256))\n",
        "    \n",
        "                    mask = mask[..., 3]\n",
        "\n",
        "                    # save img & mask\n",
        "                    cv2.imwrite(img_fn, img)\n",
        "                    cv2.imwrite(mask_fn[:-4]+'.jpg', mask)\n",
        "    \n",
        "                    os.remove(mask_fn)\n",
        "    \n",
        "part2()"
      ]
    },
    {
      "cell_type": "code",
      "execution_count": null,
      "metadata": {
        "colab": {
          "base_uri": "https://localhost:8080/"
        },
        "id": "WE9aYJ-H-h8A",
        "outputId": "3d4e8f7c-521d-467e-b38a-08fb73ae6e1d"
      },
      "outputs": [
        {
          "name": "stderr",
          "output_type": "stream",
          "text": [
            "100%|██████████| 148/148 [00:00<00:00, 434.43it/s]\n"
          ]
        }
      ],
      "source": [
        "for sub1 in tqdm(listdir(join(base_dir, 'img'))):\n",
        "    for sub2 in listdir(join(base_dir, 'img', sub1)):\n",
        "        for fn in listdir(join(base_dir, 'img', sub1, sub2)):\n",
        "            img_fn = join(base_dir, 'img', sub1, sub2, fn)\n",
        "            mask_fn = img_fn.replace('img', 'mask')\n",
        "\n",
        "            # if not os.path.exists(mask_fn):\n",
        "            #     print(mask_fn)\n",
        "            # if not os.path.exists(img_fn):\n",
        "            #     print(img_fn)\n",
        "\n",
        "            if not os.path.exists(mask_fn) and os.path.exists(img_fn):\n",
        "                print(img_fn)\n",
        "                os.remove(img_fn)\n"
      ]
    },
    {
      "cell_type": "markdown",
      "metadata": {
        "id": "UQvxrN0wCRCp"
      },
      "source": [
        "## Total data points 34426\n",
        "\n",
        "### Now split the data to train and val"
      ]
    },
    {
      "cell_type": "code",
      "execution_count": null,
      "metadata": {
        "colab": {
          "base_uri": "https://localhost:8080/",
          "height": 35
        },
        "id": "5aMiv1YjCWag",
        "outputId": "9bf10274-b483-4588-c3b8-658ce25914ee"
      },
      "outputs": [
        {
          "data": {
            "application/vnd.google.colaboratory.intrinsic+json": {
              "type": "string"
            },
            "text/plain": [
              "'./data/train/mask'"
            ]
          },
          "execution_count": 9,
          "metadata": {},
          "output_type": "execute_result"
        }
      ],
      "source": [
        "os.mkdir('./data/train')\n",
        "\n",
        "os.mkdir('./data/val')\n",
        "os.mkdir('./data/val/img')\n",
        "os.mkdir('./data/val/mask')\n",
        "\n",
        "move('./data/img/1803151818', './data/val/img/1803151818')\n",
        "move('./data/mask/1803151818', './data/val/mask/1803151818')\n",
        "\n",
        "move('./data/img', './data/train')\n",
        "move('./data/mask', './data/train')\n"
      ]
    },
    {
      "cell_type": "markdown",
      "metadata": {
        "id": "jF5vHELcavjj"
      },
      "source": [
        "### Upload Data to my kaggle account"
      ]
    },
    {
      "cell_type": "code",
      "execution_count": 47,
      "metadata": {
        "colab": {
          "base_uri": "https://localhost:8080/"
        },
        "id": "o70ya_gLYCtG",
        "outputId": "3412a9c7-75ac-4a31-f7e5-c0ff3734cf53"
      },
      "outputs": [
        {
          "name": "stdout",
          "output_type": "stream",
          "text": [
            "Starting upload for file val.zip\n",
            "100% 333M/333M [00:14<00:00, 23.5MB/s]\n",
            "Upload successful: val.zip (333MB)\n",
            "Starting upload for file train.zip\n",
            "100% 739M/739M [00:27<00:00, 28.6MB/s]\n",
            "Upload successful: train.zip (739MB)\n",
            "Your private Dataset is being created. Please check progress at https://www.kaggle.com/datasets/rohit369/human-background-segmentation\n"
          ]
        }
      ],
      "source": [
        "from json import dumps\n",
        "data = {\n",
        "  \"title\": \"Human-Background-Segmentation\",\n",
        "  \"id\": \"rohit369/human-background-segmentation\",\n",
        "  \"licenses\": [\n",
        "    {\n",
        "      \"name\": \"unknown\",\n",
        "    #   \"id\": \"your-license-id\",\n",
        "    #   \"url\": \"Your License URL\"\n",
        "    }\n",
        "  ]\n",
        "}\n",
        "\n",
        "open('./data/dataset-metadata.json', 'w').write(dumps(data))\n",
        "\n",
        "# !kaggle datasets create -p ./data\n",
        "!kaggle datasets create --dir-mode zip -p ./data"
      ]
    }
  ],
  "metadata": {
    "accelerator": "GPU",
    "colab": {
      "gpuType": "T4",
      "machine_shape": "hm",
      "provenance": []
    },
    "gpuClass": "standard",
    "kernelspec": {
      "display_name": "Python 3",
      "name": "python3"
    },
    "language_info": {
      "name": "python"
    }
  },
  "nbformat": 4,
  "nbformat_minor": 0
}
